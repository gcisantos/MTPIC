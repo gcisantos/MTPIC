{
 "cells": [
  {
   "cell_type": "markdown",
   "metadata": {},
   "source": [
    "Realiza imports necessários"
   ]
  },
  {
   "cell_type": "markdown",
   "metadata": {},
   "source": [
    "Realizando imports necessários"
   ]
  },
  {
   "cell_type": "code",
   "execution_count": 3,
   "metadata": {},
   "outputs": [],
   "source": [
    "import extratorTema,operacoesBanco\n",
    "\n",
    "from time import sleep\n",
    "\n",
    "from os.path import dirname\n",
    "\n",
    "import sys, getopt,json,os\n",
    "\n",
    "\n",
    "extrator = None\n",
    "banco = None"
   ]
  },
  {
   "cell_type": "markdown",
   "metadata": {},
   "source": [
    "Definindo método para carregar parametros do arquivo e iniciar processos necessários. Esse será o aplicativo responsável por executar o processador e o site Django"
   ]
  },
  {
   "cell_type": "code",
   "execution_count": 4,
   "metadata": {},
   "outputs": [],
   "source": [
    "def __main__(argv):\n",
    "    global extrator\n",
    "    global banco\n",
    "    \n",
    "    linguagem = ''\n",
    "    idioma = ''\n",
    "    caminhoBase = ''\n",
    "    \n",
    "    arquivoConfig = ''\n",
    "    \n",
    "    try:\n",
    "        opts,args = getopt.getopt(argv,\"hi:\",[\"arquivoConfiguracao=\"])\n",
    "    except getopt.GetoptError:\n",
    "        print('processadorTextos.py -i <arquivoConfiguracao> ')\n",
    "        sys.exit(2)\n",
    "    for opt, arg in opts:\n",
    "        if opt == '-h':\n",
    "            print('\\n\\nPara utilização devem ser inseridos os dados no seguinte formato:\\n\\nprocessadorTextos.py -i <arquivoConfiguracao> ')\n",
    "            sys.exit()\n",
    "        elif opt in (\"-i\", \"--arquivoConfiguracao\"):\n",
    "            arquivoConfig = arg\n",
    "    \n",
    "    with open(arquivoConfig) as json_file:\n",
    "        data = json.load(json_file)\n",
    "        linguagem =data['linguagem']\n",
    "        idioma =data['idioma']\n",
    "        caminhoBase =data['caminhoBase']\n",
    "        \n",
    "        \n",
    "    extrator = extratorTema.ExtratorTema(linguagem)\n",
    "    banco = operacoesBanco.OperacoesBanco(str(dirname(os.getcwd()))+\"\\\\db.sqlite3\")\n",
    "    inicia_verificador()\n"
   ]
  },
  {
   "cell_type": "code",
   "execution_count": 5,
   "metadata": {},
   "outputs": [
    {
     "name": "stdout",
     "output_type": "stream",
     "text": [
      "processadorTextos.py -i <arquivoConfiguracao> \n"
     ]
    },
    {
     "ename": "SystemExit",
     "evalue": "2",
     "output_type": "error",
     "traceback": [
      "An exception has occurred, use %tb to see the full traceback.\n",
      "\u001b[1;31mSystemExit\u001b[0m\u001b[1;31m:\u001b[0m 2\n"
     ]
    },
    {
     "name": "stderr",
     "output_type": "stream",
     "text": [
      "c:\\users\\gcisantos\\appdata\\local\\programs\\python\\python36\\lib\\site-packages\\IPython\\core\\interactiveshell.py:3304: UserWarning: To exit: use 'exit', 'quit', or Ctrl-D.\n",
      "  warn(\"To exit: use 'exit', 'quit', or Ctrl-D.\", stacklevel=1)\n"
     ]
    }
   ],
   "source": [
    "  \n",
    "def inicia_verificador():\n",
    "    global extrator\n",
    "    global banco\n",
    "    while(True):\n",
    "        sleep(0.1)\n",
    "        #obtem os itens pendentes\n",
    "        itensPendentes = banco.itens_pendentes()\n",
    "        #verifica se existe  itens pendentes\n",
    "        \n",
    "        if(len(itensPendentes) > 0):\n",
    "            #caso existe realiza atualização processando os dados\n",
    "            for ids,texto,taxaAceitacao,euristicaProcessamento,tipoBusca in itensPendentes:\n",
    "                retornoTexto,qtdTer,termos,data = (\"\",\"\",\"\",\"\")\n",
    "                if(tipoBusca==1):\n",
    "                    retornoTexto,qtdTer,termos,data = extrator.retornaTemaCentral(texto,taxaAceitacao,euristicaProcessamento)\n",
    "                    banco.processa_item((retornoTexto,data,ids))\n",
    "                elif(tipoBusca==2):\n",
    "                    retornoTexto,qtdTer,termos,data = extrator.retornaSubtemas(texto)\n",
    "                    banco.processa_item_sub((retornoTexto,data,ids))\n",
    "                elif(tipoBusca==3):\n",
    "                    temas,subtemas,grafo,data =extrator.retornaTema_subTema(texto,taxaAceitacao,euristicaProcessamento)\n",
    "                    banco.processa_item_sub_Tema((temas,subtemas,grafo,data,ids))        \n",
    "            \n",
    "            print(\"\\n\\n******* Processador Textos ******* \")\n",
    "            print(\"\\nForam processados: \"+str(len(itensPendentes) ))\n",
    "            itensPendentes = None\n",
    "\n",
    "if __name__ == \"__main__\":\n",
    "    __main__(sys.argv[1:])"
   ]
  },
  {
   "cell_type": "code",
   "execution_count": null,
   "metadata": {},
   "outputs": [],
   "source": []
  }
 ],
 "metadata": {
  "kernelspec": {
   "display_name": "Python 3",
   "language": "python",
   "name": "python3"
  },
  "language_info": {
   "codemirror_mode": {
    "name": "ipython",
    "version": 3
   },
   "file_extension": ".py",
   "mimetype": "text/x-python",
   "name": "python",
   "nbconvert_exporter": "python",
   "pygments_lexer": "ipython3",
   "version": "3.6.5"
  }
 },
 "nbformat": 4,
 "nbformat_minor": 2
}
